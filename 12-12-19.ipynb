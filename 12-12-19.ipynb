{
 "cells": [
  {
   "cell_type": "code",
   "execution_count": 4,
   "metadata": {},
   "outputs": [
    {
     "data": {
      "text/plain": [
       "Period('2007', 'A-MAY')"
      ]
     },
     "execution_count": 4,
     "metadata": {},
     "output_type": "execute_result"
    }
   ],
   "source": [
    "import pandas as pd\n",
    "p = pd.Period(2007, freq='A-MAY')\n",
    "p"
   ]
  },
  {
   "cell_type": "code",
   "execution_count": 5,
   "metadata": {},
   "outputs": [
    {
     "data": {
      "text/plain": [
       "Period('2009', 'A-MAY')"
      ]
     },
     "execution_count": 5,
     "metadata": {},
     "output_type": "execute_result"
    }
   ],
   "source": [
    "p+2"
   ]
  },
  {
   "cell_type": "code",
   "execution_count": 6,
   "metadata": {},
   "outputs": [
    {
     "data": {
      "text/plain": [
       "Period('2005', 'A-MAY')"
      ]
     },
     "execution_count": 6,
     "metadata": {},
     "output_type": "execute_result"
    }
   ],
   "source": [
    "p-2"
   ]
  },
  {
   "cell_type": "code",
   "execution_count": 8,
   "metadata": {},
   "outputs": [
    {
     "data": {
      "text/plain": [
       "Period('2007', 'A-MAY')"
      ]
     },
     "execution_count": 8,
     "metadata": {},
     "output_type": "execute_result"
    }
   ],
   "source": [
    "p"
   ]
  },
  {
   "cell_type": "code",
   "execution_count": 11,
   "metadata": {},
   "outputs": [
    {
     "data": {
      "text/plain": [
       "<7 * YearEnds: month=5>"
      ]
     },
     "execution_count": 11,
     "metadata": {},
     "output_type": "execute_result"
    }
   ],
   "source": [
    "pd.Period(2014,freq = 'A-MAY')-p"
   ]
  },
  {
   "cell_type": "code",
   "execution_count": 14,
   "metadata": {},
   "outputs": [
    {
     "data": {
      "text/plain": [
       "PeriodIndex(['2000-01', '2000-02', '2000-03', '2000-04', '2000-05', '2000-06'], dtype='period[M]', freq='M')"
      ]
     },
     "execution_count": 14,
     "metadata": {},
     "output_type": "execute_result"
    }
   ],
   "source": [
    "rng = pd.period_range('2000-01-01', '2000-06-30', freq='M')\n",
    "rng"
   ]
  },
  {
   "cell_type": "code",
   "execution_count": 15,
   "metadata": {},
   "outputs": [
    {
     "data": {
      "text/plain": [
       "PeriodIndex(['2000-01-01', '2000-01-02', '2000-01-03', '2000-01-04',\n",
       "             '2000-01-05', '2000-01-06', '2000-01-07', '2000-01-08',\n",
       "             '2000-01-09', '2000-01-10',\n",
       "             ...\n",
       "             '2000-06-21', '2000-06-22', '2000-06-23', '2000-06-24',\n",
       "             '2000-06-25', '2000-06-26', '2000-06-27', '2000-06-28',\n",
       "             '2000-06-29', '2000-06-30'],\n",
       "            dtype='period[D]', length=182, freq='D')"
      ]
     },
     "execution_count": 15,
     "metadata": {},
     "output_type": "execute_result"
    }
   ],
   "source": [
    "rng = pd.period_range('2000-01-01', '2000-06-30', freq='D')\n",
    "rng"
   ]
  },
  {
   "cell_type": "code",
   "execution_count": 16,
   "metadata": {},
   "outputs": [],
   "source": [
    "#DataFrame.asfreq - Convert TimeSeries to specified frequency.\n",
    "#Optionally provide filling method to pad/backfill missing values.\n",
    "#Returns the original data conformed to a new index with the specified frequency. \n",
    "#resample is more appropriate if an operation, such as summarization, \n",
    "#is necessary to represent the data at the new frequency."
   ]
  },
  {
   "cell_type": "code",
   "execution_count": 25,
   "metadata": {},
   "outputs": [
    {
     "data": {
      "text/html": [
       "<div>\n",
       "<style scoped>\n",
       "    .dataframe tbody tr th:only-of-type {\n",
       "        vertical-align: middle;\n",
       "    }\n",
       "\n",
       "    .dataframe tbody tr th {\n",
       "        vertical-align: top;\n",
       "    }\n",
       "\n",
       "    .dataframe thead th {\n",
       "        text-align: right;\n",
       "    }\n",
       "</style>\n",
       "<table border=\"1\" class=\"dataframe\">\n",
       "  <thead>\n",
       "    <tr style=\"text-align: right;\">\n",
       "      <th></th>\n",
       "      <th>s</th>\n",
       "    </tr>\n",
       "  </thead>\n",
       "  <tbody>\n",
       "    <tr>\n",
       "      <td>2000-01-01 00:00:00</td>\n",
       "      <td>0.0</td>\n",
       "    </tr>\n",
       "    <tr>\n",
       "      <td>2000-01-01 00:01:00</td>\n",
       "      <td>NaN</td>\n",
       "    </tr>\n",
       "    <tr>\n",
       "      <td>2000-01-01 00:02:00</td>\n",
       "      <td>2.0</td>\n",
       "    </tr>\n",
       "    <tr>\n",
       "      <td>2000-01-01 00:03:00</td>\n",
       "      <td>3.0</td>\n",
       "    </tr>\n",
       "  </tbody>\n",
       "</table>\n",
       "</div>"
      ],
      "text/plain": [
       "                       s\n",
       "2000-01-01 00:00:00  0.0\n",
       "2000-01-01 00:01:00  NaN\n",
       "2000-01-01 00:02:00  2.0\n",
       "2000-01-01 00:03:00  3.0"
      ]
     },
     "execution_count": 25,
     "metadata": {},
     "output_type": "execute_result"
    }
   ],
   "source": [
    "index = pd.date_range('1/1/2000', periods=4, freq='T')\n",
    "series = pd.Series([0.0, None, 2.0, 3.0], index=index)\n",
    "df = pd.DataFrame({'s':series})\n",
    "df"
   ]
  },
  {
   "cell_type": "code",
   "execution_count": 26,
   "metadata": {},
   "outputs": [
    {
     "data": {
      "text/html": [
       "<div>\n",
       "<style scoped>\n",
       "    .dataframe tbody tr th:only-of-type {\n",
       "        vertical-align: middle;\n",
       "    }\n",
       "\n",
       "    .dataframe tbody tr th {\n",
       "        vertical-align: top;\n",
       "    }\n",
       "\n",
       "    .dataframe thead th {\n",
       "        text-align: right;\n",
       "    }\n",
       "</style>\n",
       "<table border=\"1\" class=\"dataframe\">\n",
       "  <thead>\n",
       "    <tr style=\"text-align: right;\">\n",
       "      <th></th>\n",
       "      <th>s</th>\n",
       "    </tr>\n",
       "  </thead>\n",
       "  <tbody>\n",
       "    <tr>\n",
       "      <td>2000-01-01 00:00:00</td>\n",
       "      <td>0.0</td>\n",
       "    </tr>\n",
       "    <tr>\n",
       "      <td>2000-01-01 00:00:30</td>\n",
       "      <td>NaN</td>\n",
       "    </tr>\n",
       "    <tr>\n",
       "      <td>2000-01-01 00:01:00</td>\n",
       "      <td>NaN</td>\n",
       "    </tr>\n",
       "    <tr>\n",
       "      <td>2000-01-01 00:01:30</td>\n",
       "      <td>NaN</td>\n",
       "    </tr>\n",
       "    <tr>\n",
       "      <td>2000-01-01 00:02:00</td>\n",
       "      <td>2.0</td>\n",
       "    </tr>\n",
       "    <tr>\n",
       "      <td>2000-01-01 00:02:30</td>\n",
       "      <td>NaN</td>\n",
       "    </tr>\n",
       "    <tr>\n",
       "      <td>2000-01-01 00:03:00</td>\n",
       "      <td>3.0</td>\n",
       "    </tr>\n",
       "  </tbody>\n",
       "</table>\n",
       "</div>"
      ],
      "text/plain": [
       "                       s\n",
       "2000-01-01 00:00:00  0.0\n",
       "2000-01-01 00:00:30  NaN\n",
       "2000-01-01 00:01:00  NaN\n",
       "2000-01-01 00:01:30  NaN\n",
       "2000-01-01 00:02:00  2.0\n",
       "2000-01-01 00:02:30  NaN\n",
       "2000-01-01 00:03:00  3.0"
      ]
     },
     "execution_count": 26,
     "metadata": {},
     "output_type": "execute_result"
    }
   ],
   "source": [
    "#Upsample the series into 30 second bins\n",
    "df.asfreq(freq='30S')"
   ]
  },
  {
   "cell_type": "code",
   "execution_count": 27,
   "metadata": {},
   "outputs": [
    {
     "data": {
      "text/html": [
       "<div>\n",
       "<style scoped>\n",
       "    .dataframe tbody tr th:only-of-type {\n",
       "        vertical-align: middle;\n",
       "    }\n",
       "\n",
       "    .dataframe tbody tr th {\n",
       "        vertical-align: top;\n",
       "    }\n",
       "\n",
       "    .dataframe thead th {\n",
       "        text-align: right;\n",
       "    }\n",
       "</style>\n",
       "<table border=\"1\" class=\"dataframe\">\n",
       "  <thead>\n",
       "    <tr style=\"text-align: right;\">\n",
       "      <th></th>\n",
       "      <th>s</th>\n",
       "    </tr>\n",
       "  </thead>\n",
       "  <tbody>\n",
       "    <tr>\n",
       "      <td>2000-01-01 00:00:00</td>\n",
       "      <td>0.0</td>\n",
       "    </tr>\n",
       "    <tr>\n",
       "      <td>2000-01-01 00:00:30</td>\n",
       "      <td>9.0</td>\n",
       "    </tr>\n",
       "    <tr>\n",
       "      <td>2000-01-01 00:01:00</td>\n",
       "      <td>NaN</td>\n",
       "    </tr>\n",
       "    <tr>\n",
       "      <td>2000-01-01 00:01:30</td>\n",
       "      <td>9.0</td>\n",
       "    </tr>\n",
       "    <tr>\n",
       "      <td>2000-01-01 00:02:00</td>\n",
       "      <td>2.0</td>\n",
       "    </tr>\n",
       "    <tr>\n",
       "      <td>2000-01-01 00:02:30</td>\n",
       "      <td>9.0</td>\n",
       "    </tr>\n",
       "    <tr>\n",
       "      <td>2000-01-01 00:03:00</td>\n",
       "      <td>3.0</td>\n",
       "    </tr>\n",
       "  </tbody>\n",
       "</table>\n",
       "</div>"
      ],
      "text/plain": [
       "                       s\n",
       "2000-01-01 00:00:00  0.0\n",
       "2000-01-01 00:00:30  9.0\n",
       "2000-01-01 00:01:00  NaN\n",
       "2000-01-01 00:01:30  9.0\n",
       "2000-01-01 00:02:00  2.0\n",
       "2000-01-01 00:02:30  9.0\n",
       "2000-01-01 00:03:00  3.0"
      ]
     },
     "execution_count": 27,
     "metadata": {},
     "output_type": "execute_result"
    }
   ],
   "source": [
    "#Upsample again, providing a fill value.\n",
    "df.asfreq(freq='30S', fill_value=9.0)"
   ]
  },
  {
   "cell_type": "code",
   "execution_count": 28,
   "metadata": {},
   "outputs": [
    {
     "data": {
      "text/plain": [
       "Period('2007', 'A-MAY')"
      ]
     },
     "execution_count": 28,
     "metadata": {},
     "output_type": "execute_result"
    }
   ],
   "source": [
    "p"
   ]
  },
  {
   "cell_type": "code",
   "execution_count": 32,
   "metadata": {},
   "outputs": [
    {
     "data": {
      "text/plain": [
       "Period('2006-06-01', 'D')"
      ]
     },
     "execution_count": 32,
     "metadata": {},
     "output_type": "execute_result"
    }
   ],
   "source": [
    "p.asfreq('D', how='start')"
   ]
  },
  {
   "cell_type": "code",
   "execution_count": 33,
   "metadata": {},
   "outputs": [
    {
     "data": {
      "text/plain": [
       "Period('2007-05-31', 'D')"
      ]
     },
     "execution_count": 33,
     "metadata": {},
     "output_type": "execute_result"
    }
   ],
   "source": [
    "p.asfreq('D',how = 'end')"
   ]
  },
  {
   "cell_type": "code",
   "execution_count": 34,
   "metadata": {},
   "outputs": [
    {
     "data": {
      "text/html": [
       "<div>\n",
       "<style scoped>\n",
       "    .dataframe tbody tr th:only-of-type {\n",
       "        vertical-align: middle;\n",
       "    }\n",
       "\n",
       "    .dataframe tbody tr th {\n",
       "        vertical-align: top;\n",
       "    }\n",
       "\n",
       "    .dataframe thead th {\n",
       "        text-align: right;\n",
       "    }\n",
       "</style>\n",
       "<table border=\"1\" class=\"dataframe\">\n",
       "  <thead>\n",
       "    <tr style=\"text-align: right;\">\n",
       "      <th></th>\n",
       "      <th>s</th>\n",
       "    </tr>\n",
       "  </thead>\n",
       "  <tbody>\n",
       "    <tr>\n",
       "      <td>2000-01-01 00:00:00</td>\n",
       "      <td>0.0</td>\n",
       "    </tr>\n",
       "    <tr>\n",
       "      <td>2000-01-01 00:01:00</td>\n",
       "      <td>NaN</td>\n",
       "    </tr>\n",
       "    <tr>\n",
       "      <td>2000-01-01 00:02:00</td>\n",
       "      <td>2.0</td>\n",
       "    </tr>\n",
       "    <tr>\n",
       "      <td>2000-01-01 00:03:00</td>\n",
       "      <td>3.0</td>\n",
       "    </tr>\n",
       "  </tbody>\n",
       "</table>\n",
       "</div>"
      ],
      "text/plain": [
       "                       s\n",
       "2000-01-01 00:00:00  0.0\n",
       "2000-01-01 00:01:00  NaN\n",
       "2000-01-01 00:02:00  2.0\n",
       "2000-01-01 00:03:00  3.0"
      ]
     },
     "execution_count": 34,
     "metadata": {},
     "output_type": "execute_result"
    }
   ],
   "source": [
    "df"
   ]
  },
  {
   "cell_type": "code",
   "execution_count": 41,
   "metadata": {},
   "outputs": [
    {
     "data": {
      "text/html": [
       "<div>\n",
       "<style scoped>\n",
       "    .dataframe tbody tr th:only-of-type {\n",
       "        vertical-align: middle;\n",
       "    }\n",
       "\n",
       "    .dataframe tbody tr th {\n",
       "        vertical-align: top;\n",
       "    }\n",
       "\n",
       "    .dataframe thead th {\n",
       "        text-align: right;\n",
       "    }\n",
       "</style>\n",
       "<table border=\"1\" class=\"dataframe\">\n",
       "  <thead>\n",
       "    <tr style=\"text-align: right;\">\n",
       "      <th></th>\n",
       "      <th>s</th>\n",
       "    </tr>\n",
       "  </thead>\n",
       "  <tbody>\n",
       "    <tr>\n",
       "      <td>2000-01-01 00:00:00</td>\n",
       "      <td>0.0</td>\n",
       "    </tr>\n",
       "    <tr>\n",
       "      <td>2000-01-01 00:01:00</td>\n",
       "      <td>NaN</td>\n",
       "    </tr>\n",
       "    <tr>\n",
       "      <td>2000-01-01 00:02:00</td>\n",
       "      <td>2.0</td>\n",
       "    </tr>\n",
       "    <tr>\n",
       "      <td>2000-01-01 00:03:00</td>\n",
       "      <td>3.0</td>\n",
       "    </tr>\n",
       "  </tbody>\n",
       "</table>\n",
       "</div>"
      ],
      "text/plain": [
       "                       s\n",
       "2000-01-01 00:00:00  0.0\n",
       "2000-01-01 00:01:00  NaN\n",
       "2000-01-01 00:02:00  2.0\n",
       "2000-01-01 00:03:00  3.0"
      ]
     },
     "execution_count": 41,
     "metadata": {},
     "output_type": "execute_result"
    }
   ],
   "source": [
    "df.asfreq('T',how='start')"
   ]
  },
  {
   "cell_type": "code",
   "execution_count": 42,
   "metadata": {},
   "outputs": [
    {
     "data": {
      "text/html": [
       "<div>\n",
       "<style scoped>\n",
       "    .dataframe tbody tr th:only-of-type {\n",
       "        vertical-align: middle;\n",
       "    }\n",
       "\n",
       "    .dataframe tbody tr th {\n",
       "        vertical-align: top;\n",
       "    }\n",
       "\n",
       "    .dataframe thead th {\n",
       "        text-align: right;\n",
       "    }\n",
       "</style>\n",
       "<table border=\"1\" class=\"dataframe\">\n",
       "  <thead>\n",
       "    <tr style=\"text-align: right;\">\n",
       "      <th></th>\n",
       "      <th>s</th>\n",
       "    </tr>\n",
       "  </thead>\n",
       "  <tbody>\n",
       "    <tr>\n",
       "      <td>2000-01-01 00:00:00</td>\n",
       "      <td>0.0</td>\n",
       "    </tr>\n",
       "    <tr>\n",
       "      <td>2000-01-01 00:01:00</td>\n",
       "      <td>NaN</td>\n",
       "    </tr>\n",
       "    <tr>\n",
       "      <td>2000-01-01 00:02:00</td>\n",
       "      <td>2.0</td>\n",
       "    </tr>\n",
       "    <tr>\n",
       "      <td>2000-01-01 00:03:00</td>\n",
       "      <td>3.0</td>\n",
       "    </tr>\n",
       "  </tbody>\n",
       "</table>\n",
       "</div>"
      ],
      "text/plain": [
       "                       s\n",
       "2000-01-01 00:00:00  0.0\n",
       "2000-01-01 00:01:00  NaN\n",
       "2000-01-01 00:02:00  2.0\n",
       "2000-01-01 00:03:00  3.0"
      ]
     },
     "execution_count": 42,
     "metadata": {},
     "output_type": "execute_result"
    }
   ],
   "source": [
    "df.asfreq('T',how='end')"
   ]
  },
  {
   "cell_type": "code",
   "execution_count": 52,
   "metadata": {},
   "outputs": [
    {
     "data": {
      "text/plain": [
       "PeriodIndex(['2006', '2007', '2008', '2009'], dtype='period[A-DEC]', freq='A-DEC')"
      ]
     },
     "execution_count": 52,
     "metadata": {},
     "output_type": "execute_result"
    }
   ],
   "source": [
    "rng = pd.period_range('2006', '2009', freq='A-DEC')\n",
    "rng"
   ]
  },
  {
   "cell_type": "code",
   "execution_count": 53,
   "metadata": {},
   "outputs": [],
   "source": [
    "import numpy as np\n",
    "ts = pd.Series(np.random.randn(len(rng)), index=rng)"
   ]
  },
  {
   "cell_type": "code",
   "execution_count": 54,
   "metadata": {},
   "outputs": [
    {
     "data": {
      "text/plain": [
       "2006    0.490288\n",
       "2007   -0.599335\n",
       "2008    0.257541\n",
       "2009    0.442864\n",
       "Freq: A-DEC, dtype: float64"
      ]
     },
     "execution_count": 54,
     "metadata": {},
     "output_type": "execute_result"
    }
   ],
   "source": [
    "ts"
   ]
  },
  {
   "cell_type": "code",
   "execution_count": 61,
   "metadata": {},
   "outputs": [
    {
     "data": {
      "text/plain": [
       "2006-01    0.490288\n",
       "2007-01   -0.599335\n",
       "2008-01    0.257541\n",
       "2009-01    0.442864\n",
       "Freq: M, dtype: float64"
      ]
     },
     "execution_count": 61,
     "metadata": {},
     "output_type": "execute_result"
    }
   ],
   "source": [
    "ts.asfreq('M', how='start') "
   ]
  },
  {
   "cell_type": "code",
   "execution_count": 62,
   "metadata": {},
   "outputs": [
    {
     "data": {
      "text/plain": [
       "2006-12    0.490288\n",
       "2007-12   -0.599335\n",
       "2008-12    0.257541\n",
       "2009-12    0.442864\n",
       "Freq: M, dtype: float64"
      ]
     },
     "execution_count": 62,
     "metadata": {},
     "output_type": "execute_result"
    }
   ],
   "source": [
    "ts.asfreq('M', how='end') "
   ]
  },
  {
   "cell_type": "code",
   "execution_count": 71,
   "metadata": {},
   "outputs": [
    {
     "data": {
      "text/plain": [
       "Period('2012-10', 'M')"
      ]
     },
     "execution_count": 71,
     "metadata": {},
     "output_type": "execute_result"
    }
   ],
   "source": [
    "p = pd.Period('2012Q4', freq='M')\n",
    "p"
   ]
  },
  {
   "cell_type": "code",
   "execution_count": 73,
   "metadata": {},
   "outputs": [
    {
     "data": {
      "text/plain": [
       "PeriodIndex(['2011Q3', '2011Q4', '2012Q1', '2012Q2', '2012Q3', '2012Q4'], dtype='period[Q-JAN]', freq='Q-JAN')"
      ]
     },
     "execution_count": 73,
     "metadata": {},
     "output_type": "execute_result"
    }
   ],
   "source": [
    "rng = pd.period_range('2011Q3', '2012Q4', freq='Q-JAN')\n",
    "rng"
   ]
  },
  {
   "cell_type": "code",
   "execution_count": 74,
   "metadata": {},
   "outputs": [
    {
     "data": {
      "text/plain": [
       "2011Q3    0\n",
       "2011Q4    1\n",
       "2012Q1    2\n",
       "2012Q2    3\n",
       "2012Q3    4\n",
       "2012Q4    5\n",
       "Freq: Q-JAN, dtype: int32"
      ]
     },
     "execution_count": 74,
     "metadata": {},
     "output_type": "execute_result"
    }
   ],
   "source": [
    "ts = pd.Series(np.arange(len(rng)), index=rng)\n",
    "ts "
   ]
  },
  {
   "cell_type": "code",
   "execution_count": 75,
   "metadata": {},
   "outputs": [
    {
     "ename": "AttributeError",
     "evalue": "'PeriodIndex' object has no attribute 'to_period'",
     "output_type": "error",
     "traceback": [
      "\u001b[1;31m---------------------------------------------------------------------------\u001b[0m",
      "\u001b[1;31mAttributeError\u001b[0m                            Traceback (most recent call last)",
      "\u001b[1;32m<ipython-input-75-c76f6c0d0dad>\u001b[0m in \u001b[0;36m<module>\u001b[1;34m\u001b[0m\n\u001b[1;32m----> 1\u001b[1;33m \u001b[0mpts\u001b[0m \u001b[1;33m=\u001b[0m \u001b[0mts\u001b[0m\u001b[1;33m.\u001b[0m\u001b[0mto_period\u001b[0m\u001b[1;33m(\u001b[0m\u001b[1;33m)\u001b[0m\u001b[1;33m\u001b[0m\u001b[1;33m\u001b[0m\u001b[0m\n\u001b[0m\u001b[0;32m      2\u001b[0m \u001b[0mpts\u001b[0m\u001b[1;33m\u001b[0m\u001b[1;33m\u001b[0m\u001b[0m\n",
      "\u001b[1;32m~\\Anaconda3\\lib\\site-packages\\pandas\\core\\series.py\u001b[0m in \u001b[0;36mto_period\u001b[1;34m(self, freq, copy)\u001b[0m\n\u001b[0;32m   4861\u001b[0m             \u001b[0mnew_values\u001b[0m \u001b[1;33m=\u001b[0m \u001b[0mnew_values\u001b[0m\u001b[1;33m.\u001b[0m\u001b[0mcopy\u001b[0m\u001b[1;33m(\u001b[0m\u001b[1;33m)\u001b[0m\u001b[1;33m\u001b[0m\u001b[1;33m\u001b[0m\u001b[0m\n\u001b[0;32m   4862\u001b[0m \u001b[1;33m\u001b[0m\u001b[0m\n\u001b[1;32m-> 4863\u001b[1;33m         \u001b[0mnew_index\u001b[0m \u001b[1;33m=\u001b[0m \u001b[0mself\u001b[0m\u001b[1;33m.\u001b[0m\u001b[0mindex\u001b[0m\u001b[1;33m.\u001b[0m\u001b[0mto_period\u001b[0m\u001b[1;33m(\u001b[0m\u001b[0mfreq\u001b[0m\u001b[1;33m=\u001b[0m\u001b[0mfreq\u001b[0m\u001b[1;33m)\u001b[0m\u001b[1;33m\u001b[0m\u001b[1;33m\u001b[0m\u001b[0m\n\u001b[0m\u001b[0;32m   4864\u001b[0m         \u001b[1;32mreturn\u001b[0m \u001b[0mself\u001b[0m\u001b[1;33m.\u001b[0m\u001b[0m_constructor\u001b[0m\u001b[1;33m(\u001b[0m\u001b[0mnew_values\u001b[0m\u001b[1;33m,\u001b[0m \u001b[0mindex\u001b[0m\u001b[1;33m=\u001b[0m\u001b[0mnew_index\u001b[0m\u001b[1;33m)\u001b[0m\u001b[1;33m.\u001b[0m\u001b[0m__finalize__\u001b[0m\u001b[1;33m(\u001b[0m\u001b[0mself\u001b[0m\u001b[1;33m)\u001b[0m\u001b[1;33m\u001b[0m\u001b[1;33m\u001b[0m\u001b[0m\n\u001b[0;32m   4865\u001b[0m \u001b[1;33m\u001b[0m\u001b[0m\n",
      "\u001b[1;31mAttributeError\u001b[0m: 'PeriodIndex' object has no attribute 'to_period'"
     ]
    }
   ],
   "source": [
    "pts = ts.to_period()\n",
    "pts"
   ]
  },
  {
   "cell_type": "code",
   "execution_count": 78,
   "metadata": {},
   "outputs": [
    {
     "data": {
      "text/plain": [
       "DatetimeIndex(['2000-01-31', '2000-02-29', '2000-03-31'], dtype='datetime64[ns]', freq='M')"
      ]
     },
     "execution_count": 78,
     "metadata": {},
     "output_type": "execute_result"
    }
   ],
   "source": [
    "rng = pd.date_range('2000-01-01', periods=3, freq='M')\n",
    "rng"
   ]
  },
  {
   "cell_type": "code",
   "execution_count": 79,
   "metadata": {},
   "outputs": [
    {
     "data": {
      "text/plain": [
       "2000-01-31   -0.262889\n",
       "2000-02-29    0.148376\n",
       "2000-03-31   -0.798347\n",
       "Freq: M, dtype: float64"
      ]
     },
     "execution_count": 79,
     "metadata": {},
     "output_type": "execute_result"
    }
   ],
   "source": [
    "ts = pd.Series(np.random.randn(3), index=rng)\n",
    "ts"
   ]
  },
  {
   "cell_type": "code",
   "execution_count": 81,
   "metadata": {},
   "outputs": [
    {
     "data": {
      "text/plain": [
       "2000-01   -0.262889\n",
       "2000-02    0.148376\n",
       "2000-03   -0.798347\n",
       "Freq: M, dtype: float64"
      ]
     },
     "execution_count": 81,
     "metadata": {},
     "output_type": "execute_result"
    }
   ],
   "source": [
    "pts = ts.to_period()\n",
    "pts"
   ]
  },
  {
   "cell_type": "code",
   "execution_count": 82,
   "metadata": {},
   "outputs": [
    {
     "data": {
      "text/plain": [
       "2000-01-29    0.668655\n",
       "2000-01-30    0.805786\n",
       "2000-01-31   -0.254557\n",
       "2000-02-01   -1.449389\n",
       "2000-02-02    0.201770\n",
       "2000-02-03    0.267973\n",
       "Freq: D, dtype: float64"
      ]
     },
     "execution_count": 82,
     "metadata": {},
     "output_type": "execute_result"
    }
   ],
   "source": [
    "rng = pd.date_range('1/29/2000', periods=6, freq='D')\n",
    "ts2 = pd.Series(np.random.randn(6), index=rng)\n",
    "ts2 "
   ]
  },
  {
   "cell_type": "code",
   "execution_count": 83,
   "metadata": {},
   "outputs": [
    {
     "data": {
      "text/plain": [
       "2000-01-29    0.668655\n",
       "2000-01-30    0.805786\n",
       "2000-01-31   -0.254557\n",
       "2000-02-01   -1.449389\n",
       "2000-02-02    0.201770\n",
       "2000-02-03    0.267973\n",
       "Freq: D, dtype: float64"
      ]
     },
     "execution_count": 83,
     "metadata": {},
     "output_type": "execute_result"
    }
   ],
   "source": [
    "ts2.to_period()"
   ]
  },
  {
   "cell_type": "code",
   "execution_count": 84,
   "metadata": {},
   "outputs": [
    {
     "data": {
      "text/plain": [
       "2000-01    0.668655\n",
       "2000-01    0.805786\n",
       "2000-01   -0.254557\n",
       "2000-02   -1.449389\n",
       "2000-02    0.201770\n",
       "2000-02    0.267973\n",
       "Freq: M, dtype: float64"
      ]
     },
     "execution_count": 84,
     "metadata": {},
     "output_type": "execute_result"
    }
   ],
   "source": [
    "ts2.to_period('M')"
   ]
  },
  {
   "cell_type": "code",
   "execution_count": 85,
   "metadata": {},
   "outputs": [
    {
     "data": {
      "text/plain": [
       "2000-01-29    0.668655\n",
       "2000-01-30    0.805786\n",
       "2000-01-31   -0.254557\n",
       "2000-02-01   -1.449389\n",
       "2000-02-02    0.201770\n",
       "2000-02-03    0.267973\n",
       "Freq: D, dtype: float64"
      ]
     },
     "execution_count": 85,
     "metadata": {},
     "output_type": "execute_result"
    }
   ],
   "source": [
    "pts = ts2.to_period()\n",
    "pts"
   ]
  },
  {
   "cell_type": "code",
   "execution_count": 86,
   "metadata": {},
   "outputs": [
    {
     "data": {
      "text/plain": [
       "2000-01-29 23:59:59.999999999    0.668655\n",
       "2000-01-30 23:59:59.999999999    0.805786\n",
       "2000-01-31 23:59:59.999999999   -0.254557\n",
       "2000-02-01 23:59:59.999999999   -1.449389\n",
       "2000-02-02 23:59:59.999999999    0.201770\n",
       "2000-02-03 23:59:59.999999999    0.267973\n",
       "Freq: D, dtype: float64"
      ]
     },
     "execution_count": 86,
     "metadata": {},
     "output_type": "execute_result"
    }
   ],
   "source": [
    "pts.to_timestamp(how='end')"
   ]
  },
  {
   "cell_type": "code",
   "execution_count": 87,
   "metadata": {},
   "outputs": [
    {
     "data": {
      "text/plain": [
       "2000-01-29    0.668655\n",
       "2000-01-30    0.805786\n",
       "2000-01-31   -0.254557\n",
       "2000-02-01   -1.449389\n",
       "2000-02-02    0.201770\n",
       "2000-02-03    0.267973\n",
       "Freq: D, dtype: float64"
      ]
     },
     "execution_count": 87,
     "metadata": {},
     "output_type": "execute_result"
    }
   ],
   "source": [
    "pts.to_timestamp(how='start')"
   ]
  },
  {
   "cell_type": "code",
   "execution_count": 88,
   "metadata": {},
   "outputs": [],
   "source": [
    "#resample - Resample time-series data.\n",
    "#Convenience method for frequency conversion and resampling of time series. \n",
    "#Object must have a datetime-like index \n",
    "#closed : {‘right’, ‘left’}, default None\n",
    "#Which side of bin interval is closed. \n",
    "#The default is ‘left’ for all frequency offsets except for \n",
    "#‘M’, ‘A’, ‘Q’, ‘BM’, ‘BA’, ‘BQ’, and ‘W’ which all have a default of ‘right’.\n",
    "\n",
    "#label : {‘right’, ‘left’}, default None\n",
    "#Which bin edge label to label bucket with. \n",
    "#The default is ‘left’ for all frequency offsets except for \n",
    "#‘M’, ‘A’, ‘Q’, ‘BM’, ‘BA’, ‘BQ’, and ‘W’ which all have a default of ‘right’"
   ]
  },
  {
   "cell_type": "code",
   "execution_count": 89,
   "metadata": {},
   "outputs": [
    {
     "data": {
      "text/plain": [
       "2000-01-01 00:00:00    0\n",
       "2000-01-01 00:01:00    1\n",
       "2000-01-01 00:02:00    2\n",
       "2000-01-01 00:03:00    3\n",
       "2000-01-01 00:04:00    4\n",
       "2000-01-01 00:05:00    5\n",
       "2000-01-01 00:06:00    6\n",
       "2000-01-01 00:07:00    7\n",
       "2000-01-01 00:08:00    8\n",
       "Freq: T, dtype: int64"
      ]
     },
     "execution_count": 89,
     "metadata": {},
     "output_type": "execute_result"
    }
   ],
   "source": [
    "index = pd.date_range('1/1/2000', periods=9, freq='T')\n",
    "series = pd.Series(range(9), index=index)\n",
    "series"
   ]
  },
  {
   "cell_type": "code",
   "execution_count": 93,
   "metadata": {},
   "outputs": [
    {
     "data": {
      "text/plain": [
       "2000-01-01 00:00:00     3\n",
       "2000-01-01 00:03:00    12\n",
       "2000-01-01 00:06:00    21\n",
       "Freq: 3T, dtype: int64"
      ]
     },
     "execution_count": 93,
     "metadata": {},
     "output_type": "execute_result"
    }
   ],
   "source": [
    "series.resample('3T').sum()\n",
    "#Downsample the series into 3 minute bins as above, \n",
    "#but label each bin using the right edge instead of the left. \n",
    "#Please note that the value in the bucket used as the label \n",
    "#is not included in the bucket, \n",
    "#which it labels. For example, in the original series the \n",
    "#bucket 2000-01-01 00:03:00 \n",
    "#contains the value 3, but the summed value in the resampled bucket \n",
    "#with the label\n",
    "#2000-01-01 00:03:00 does not include 3 \n",
    "#(if it did, the summed value would be 6, not 3)"
   ]
  },
  {
   "cell_type": "code",
   "execution_count": 94,
   "metadata": {},
   "outputs": [
    {
     "data": {
      "text/plain": [
       "2000-01-01 00:00:00     0\n",
       "2000-01-01 00:03:00     6\n",
       "2000-01-01 00:06:00    15\n",
       "2000-01-01 00:09:00    15\n",
       "Freq: 3T, dtype: int64"
      ]
     },
     "execution_count": 94,
     "metadata": {},
     "output_type": "execute_result"
    }
   ],
   "source": [
    "#Downsample the series into 3 minute bins as above,\n",
    "#but close the right side of the bin interval.\n",
    "series.resample('3T', label='right', closed='right').sum()"
   ]
  },
  {
   "cell_type": "code",
   "execution_count": 96,
   "metadata": {},
   "outputs": [
    {
     "data": {
      "text/plain": [
       "2000-01-01 00:00:00    0.0\n",
       "2000-01-01 00:00:30    NaN\n",
       "2000-01-01 00:01:00    1.0\n",
       "2000-01-01 00:01:30    NaN\n",
       "2000-01-01 00:02:00    2.0\n",
       "Freq: 30S, dtype: float64"
      ]
     },
     "execution_count": 96,
     "metadata": {},
     "output_type": "execute_result"
    }
   ],
   "source": [
    "#Upsample the series into 30 second bins.\n",
    "series.resample('30S').asfreq()[0:5] "
   ]
  },
  {
   "cell_type": "code",
   "execution_count": 97,
   "metadata": {},
   "outputs": [
    {
     "data": {
      "text/plain": [
       "2000-01-01 00:00:00    0\n",
       "2000-01-01 00:00:30    0\n",
       "2000-01-01 00:01:00    1\n",
       "2000-01-01 00:01:30    1\n",
       "2000-01-01 00:02:00    2\n",
       "Freq: 30S, dtype: int64"
      ]
     },
     "execution_count": 97,
     "metadata": {},
     "output_type": "execute_result"
    }
   ],
   "source": [
    "#Upsample the series into 30 second bins and \n",
    "#fill the NaN values using the pad method\n",
    "series.resample('30S').pad()[0:5]"
   ]
  },
  {
   "cell_type": "code",
   "execution_count": 99,
   "metadata": {},
   "outputs": [
    {
     "data": {
      "text/html": [
       "<div>\n",
       "<style scoped>\n",
       "    .dataframe tbody tr th:only-of-type {\n",
       "        vertical-align: middle;\n",
       "    }\n",
       "\n",
       "    .dataframe tbody tr th {\n",
       "        vertical-align: top;\n",
       "    }\n",
       "\n",
       "    .dataframe thead th {\n",
       "        text-align: right;\n",
       "    }\n",
       "</style>\n",
       "<table border=\"1\" class=\"dataframe\">\n",
       "  <thead>\n",
       "    <tr style=\"text-align: right;\">\n",
       "      <th></th>\n",
       "      <th>close</th>\n",
       "      <th>volume</th>\n",
       "      <th>open</th>\n",
       "      <th>high</th>\n",
       "      <th>low</th>\n",
       "    </tr>\n",
       "    <tr>\n",
       "      <th>date</th>\n",
       "      <th></th>\n",
       "      <th></th>\n",
       "      <th></th>\n",
       "      <th></th>\n",
       "      <th></th>\n",
       "    </tr>\n",
       "  </thead>\n",
       "  <tbody>\n",
       "    <tr>\n",
       "      <td>2019-12-12 16:00:00</td>\n",
       "      <td>192.23</td>\n",
       "      <td>4,65,41,444</td>\n",
       "      <td>191.72</td>\n",
       "      <td>197.18</td>\n",
       "      <td>191.4501</td>\n",
       "    </tr>\n",
       "    <tr>\n",
       "      <td>2018-11-13 00:00:00</td>\n",
       "      <td>192.23</td>\n",
       "      <td>46725710</td>\n",
       "      <td>191.63</td>\n",
       "      <td>197.18</td>\n",
       "      <td>191.4501</td>\n",
       "    </tr>\n",
       "    <tr>\n",
       "      <td>2018-12-11 00:00:00</td>\n",
       "      <td>194.17</td>\n",
       "      <td>50991030</td>\n",
       "      <td>199.00</td>\n",
       "      <td>199.85</td>\n",
       "      <td>193.7900</td>\n",
       "    </tr>\n",
       "    <tr>\n",
       "      <td>2018-09-11 00:00:00</td>\n",
       "      <td>204.47</td>\n",
       "      <td>34317760</td>\n",
       "      <td>205.55</td>\n",
       "      <td>206.01</td>\n",
       "      <td>202.2500</td>\n",
       "    </tr>\n",
       "    <tr>\n",
       "      <td>2018-08-11 00:00:00</td>\n",
       "      <td>208.49</td>\n",
       "      <td>25289270</td>\n",
       "      <td>209.98</td>\n",
       "      <td>210.12</td>\n",
       "      <td>206.7500</td>\n",
       "    </tr>\n",
       "    <tr>\n",
       "      <td>2018-07-11 00:00:00</td>\n",
       "      <td>209.95</td>\n",
       "      <td>33291640</td>\n",
       "      <td>205.97</td>\n",
       "      <td>210.06</td>\n",
       "      <td>204.1300</td>\n",
       "    </tr>\n",
       "    <tr>\n",
       "      <td>2018-06-11 00:00:00</td>\n",
       "      <td>203.77</td>\n",
       "      <td>31774720</td>\n",
       "      <td>201.92</td>\n",
       "      <td>204.72</td>\n",
       "      <td>201.6900</td>\n",
       "    </tr>\n",
       "    <tr>\n",
       "      <td>2018-05-11 00:00:00</td>\n",
       "      <td>201.59</td>\n",
       "      <td>66072170</td>\n",
       "      <td>204.30</td>\n",
       "      <td>204.39</td>\n",
       "      <td>198.1700</td>\n",
       "    </tr>\n",
       "    <tr>\n",
       "      <td>2018-02-11 00:00:00</td>\n",
       "      <td>207.48</td>\n",
       "      <td>91046560</td>\n",
       "      <td>209.55</td>\n",
       "      <td>213.65</td>\n",
       "      <td>205.4300</td>\n",
       "    </tr>\n",
       "    <tr>\n",
       "      <td>2018-01-11 00:00:00</td>\n",
       "      <td>222.22</td>\n",
       "      <td>52954070</td>\n",
       "      <td>219.05</td>\n",
       "      <td>222.36</td>\n",
       "      <td>216.8100</td>\n",
       "    </tr>\n",
       "  </tbody>\n",
       "</table>\n",
       "</div>"
      ],
      "text/plain": [
       "                      close       volume    open    high       low\n",
       "date                                                              \n",
       "2019-12-12 16:00:00  192.23  4,65,41,444  191.72  197.18  191.4501\n",
       "2018-11-13 00:00:00  192.23     46725710  191.63  197.18  191.4501\n",
       "2018-12-11 00:00:00  194.17     50991030  199.00  199.85  193.7900\n",
       "2018-09-11 00:00:00  204.47     34317760  205.55  206.01  202.2500\n",
       "2018-08-11 00:00:00  208.49     25289270  209.98  210.12  206.7500\n",
       "2018-07-11 00:00:00  209.95     33291640  205.97  210.06  204.1300\n",
       "2018-06-11 00:00:00  203.77     31774720  201.92  204.72  201.6900\n",
       "2018-05-11 00:00:00  201.59     66072170  204.30  204.39  198.1700\n",
       "2018-02-11 00:00:00  207.48     91046560  209.55  213.65  205.4300\n",
       "2018-01-11 00:00:00  222.22     52954070  219.05  222.36  216.8100"
      ]
     },
     "execution_count": 99,
     "metadata": {},
     "output_type": "execute_result"
    }
   ],
   "source": [
    "import pandas as pd  \n",
    "# By default the \"date\" column was in string format, \n",
    "# we need to convert it into date-time format \n",
    "# parse_dates =[\"date\"], converts the \"date\"  \n",
    "# column to date-time format. We know that  \n",
    "# resampling works with time-series data only \n",
    "# so convert \"date\" column to index \n",
    "# index_col =\"date\", makes \"date\" column, the index of the data frame \n",
    "df = pd.read_csv(\"apple.csv\",parse_dates =[\"date\"], index_col =\"date\") \n",
    "# Printing the first 10 rows of dataframe \n",
    "df[:10]"
   ]
  },
  {
   "cell_type": "code",
   "execution_count": 100,
   "metadata": {},
   "outputs": [
    {
     "data": {
      "text/plain": [
       "date\n",
       "2017-01-31    171.050000\n",
       "2017-02-28           NaN\n",
       "2017-03-31           NaN\n",
       "2017-04-30    169.800000\n",
       "2017-05-31    169.640000\n",
       "2017-06-30    169.010000\n",
       "2017-07-31    169.320000\n",
       "2017-08-31    169.370000\n",
       "2017-09-30           NaN\n",
       "2017-10-31           NaN\n",
       "2017-11-30    172.132143\n",
       "2017-12-31    172.843846\n",
       "2018-01-31    181.018421\n",
       "2018-02-28    179.354000\n",
       "2018-03-31    178.291579\n",
       "2018-04-30    178.079444\n",
       "2018-05-31    188.672273\n",
       "2018-06-30    188.047143\n",
       "2018-07-31    192.189000\n",
       "2018-08-31    207.562609\n",
       "2018-09-30    207.402381\n",
       "2018-10-31    210.257500\n",
       "2018-11-30    193.243750\n",
       "2018-12-31    190.702222\n",
       "2019-01-31           NaN\n",
       "2019-02-28           NaN\n",
       "2019-03-31           NaN\n",
       "2019-04-30           NaN\n",
       "2019-05-31           NaN\n",
       "2019-06-30           NaN\n",
       "2019-07-31           NaN\n",
       "2019-08-31           NaN\n",
       "2019-09-30           NaN\n",
       "2019-10-31           NaN\n",
       "2019-11-30           NaN\n",
       "2019-12-31    192.230000\n",
       "Freq: M, Name: close, dtype: float64"
      ]
     },
     "execution_count": 100,
     "metadata": {},
     "output_type": "execute_result"
    }
   ],
   "source": [
    "# Resampling the time series data based on months \n",
    "# we apply it on stock close price \n",
    "# 'M' indicates month \n",
    "monthly_resampled_data = df.close.resample('M').mean() \n",
    "# the above command will find the mean closing price \n",
    "# of each month for a duration of 12 months. \n",
    "monthly_resampled_data"
   ]
  },
  {
   "cell_type": "code",
   "execution_count": 101,
   "metadata": {},
   "outputs": [
    {
     "data": {
      "text/plain": [
       "date\n",
       "2017-01-15    169.95\n",
       "2017-01-22       NaN\n",
       "2017-01-29       NaN\n",
       "2017-02-05       NaN\n",
       "2017-02-12       NaN\n",
       "               ...  \n",
       "2019-11-17       NaN\n",
       "2019-11-24       NaN\n",
       "2019-12-01       NaN\n",
       "2019-12-08       NaN\n",
       "2019-12-15    191.72\n",
       "Freq: W-SUN, Name: open, Length: 153, dtype: float64"
      ]
     },
     "execution_count": 101,
     "metadata": {},
     "output_type": "execute_result"
    }
   ],
   "source": [
    "# Resampling the time series data based on weekly frequency \n",
    "# we apply it on stock open price 'W' indicates week \n",
    "weekly_resampled_data = df.open.resample('W').mean() \n",
    "# find the mean opening price of each month  \n",
    "# for each week over a period of 1 year. \n",
    "weekly_resampled_data "
   ]
  },
  {
   "cell_type": "code",
   "execution_count": null,
   "metadata": {},
   "outputs": [],
   "source": []
  }
 ],
 "metadata": {
  "kernelspec": {
   "display_name": "Python 3",
   "language": "python",
   "name": "python3"
  },
  "language_info": {
   "codemirror_mode": {
    "name": "ipython",
    "version": 3
   },
   "file_extension": ".py",
   "mimetype": "text/x-python",
   "name": "python",
   "nbconvert_exporter": "python",
   "pygments_lexer": "ipython3",
   "version": "3.7.4"
  }
 },
 "nbformat": 4,
 "nbformat_minor": 2
}
